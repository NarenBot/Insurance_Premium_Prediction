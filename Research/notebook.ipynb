{
 "cells": [
  {
   "cell_type": "code",
   "execution_count": 3,
   "metadata": {},
   "outputs": [
    {
     "name": "stdout",
     "output_type": "stream",
     "text": [
      "['pandas', 'numpy', 'matplotlib', 'seaborn', 'scikit-learn', 'ipykernel', 'dill', 'Flask']\n"
     ]
    }
   ],
   "source": [
    "requirements = []\n",
    "with open(r\"C:\\Users\\Naren\\iNeuron\\Internship_Projects\\ML_Projects\\Insurance_Premium_Prediction\\requirements.txt\", \"r\") as file:\n",
    "    requirements = file.readlines()\n",
    "    requirements = [req.replace(\"\\n\", \"\") for req in requirements]\n",
    "    if \"-e .\" in requirements:\n",
    "        requirements.remove(\"-e .\")\n",
    "\n",
    "print(requirements)"
   ]
  },
  {
   "cell_type": "code",
   "execution_count": 4,
   "metadata": {},
   "outputs": [
    {
     "name": "stdout",
     "output_type": "stream",
     "text": [
      "c:\\Users\\Naren\\iNeuron\\Internship_Projects\\ML_Projects\\Insurance_Premium_Prediction\\Research\\logs\\24-Nov-2023_18-13-28.log\n"
     ]
    }
   ],
   "source": [
    "from datetime import datetime\n",
    "import os \n",
    "log_file_name = f\"{datetime.now().strftime('%d-%b-%Y_%H-%M-%S')}.log\"\n",
    "log_file_path = os.path.join(os.getcwd(), \"logs\", log_file_name)\n",
    "print(log_file_path)\n"
   ]
  },
  {
   "cell_type": "code",
   "execution_count": null,
   "metadata": {},
   "outputs": [],
   "source": []
  },
  {
   "cell_type": "code",
   "execution_count": null,
   "metadata": {},
   "outputs": [],
   "source": []
  },
  {
   "cell_type": "code",
   "execution_count": null,
   "metadata": {},
   "outputs": [],
   "source": []
  },
  {
   "cell_type": "code",
   "execution_count": null,
   "metadata": {},
   "outputs": [],
   "source": []
  },
  {
   "cell_type": "code",
   "execution_count": null,
   "metadata": {},
   "outputs": [],
   "source": []
  },
  {
   "cell_type": "code",
   "execution_count": null,
   "metadata": {},
   "outputs": [],
   "source": []
  },
  {
   "cell_type": "code",
   "execution_count": null,
   "metadata": {},
   "outputs": [],
   "source": []
  },
  {
   "cell_type": "code",
   "execution_count": null,
   "metadata": {},
   "outputs": [],
   "source": []
  },
  {
   "cell_type": "code",
   "execution_count": null,
   "metadata": {},
   "outputs": [],
   "source": []
  },
  {
   "cell_type": "code",
   "execution_count": null,
   "metadata": {},
   "outputs": [],
   "source": []
  },
  {
   "cell_type": "code",
   "execution_count": null,
   "metadata": {},
   "outputs": [],
   "source": []
  }
 ],
 "metadata": {
  "kernelspec": {
   "display_name": "ml_projects",
   "language": "python",
   "name": "python3"
  },
  "language_info": {
   "codemirror_mode": {
    "name": "ipython",
    "version": 3
   },
   "file_extension": ".py",
   "mimetype": "text/x-python",
   "name": "python",
   "nbconvert_exporter": "python",
   "pygments_lexer": "ipython3",
   "version": "3.8.0"
  }
 },
 "nbformat": 4,
 "nbformat_minor": 2
}
