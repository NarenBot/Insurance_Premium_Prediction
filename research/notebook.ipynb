{
 "cells": [
  {
   "cell_type": "code",
   "execution_count": 2,
   "metadata": {},
   "outputs": [],
   "source": [
    "import pandas as pd\n",
    "import numpy as np\n",
    "import os\n",
    "import sys\n",
    "import dill\n",
    "# import yaml"
   ]
  },
  {
   "cell_type": "code",
   "execution_count": null,
   "metadata": {},
   "outputs": [],
   "source": [
    "requirements = []\n",
    "with open(r\"C:\\Users\\Naren\\iNeuron\\Internship_Projects\\ML_Projects\\Insurance_Premium_Prediction\\requirements.txt\", \"r\") as file:\n",
    "    requirements = file.readlines()\n",
    "    requirements = [req.replace(\"\\n\", \"\") for req in requirements]\n",
    "    if \"-e .\" in requirements:\n",
    "        requirements.remove(\"-e .\")\n",
    "\n",
    "print(requirements)"
   ]
  },
  {
   "cell_type": "code",
   "execution_count": null,
   "metadata": {},
   "outputs": [],
   "source": [
    "from datetime import datetime\n",
    "import os \n",
    "log_file_name = f\"{datetime.now().strftime('%d-%b-%Y_%H-%M-%S')}.log\"\n",
    "log_file_path = os.path.join(os.getcwd(), \"logs\", log_file_name)\n",
    "print(log_file_path)\n"
   ]
  },
  {
   "cell_type": "code",
   "execution_count": null,
   "metadata": {},
   "outputs": [],
   "source": [
    "source = r'C:\\Users\\Naren\\iNeuron\\Internship_Projects\\ML_Projects\\Insurance_Premium_Prediction\\research\\insurance.csv'"
   ]
  },
  {
   "cell_type": "code",
   "execution_count": 31,
   "metadata": {},
   "outputs": [
    {
     "name": "stdout",
     "output_type": "stream",
     "text": [
      "age 39.0\n",
      "bmi 30.4\n",
      "children 1.0\n",
      "expenses 9382.029999999999\n"
     ]
    }
   ],
   "source": [
    "missing_df = pd.read_csv(source)\n",
    "columns = missing_df.columns\n",
    "for col in columns:\n",
    "    if missing_df[col].dtype == 'object':\n",
    "        missing_df[col].fillna(missing_df[col].mode()[0])\n",
    "    else:\n",
    "        missing_df[col].fillna(missing_df[col].median())\n",
    "        value = missing_df[col].median()\n",
    "        print(col, value)"
   ]
  },
  {
   "cell_type": "code",
   "execution_count": 4,
   "metadata": {},
   "outputs": [],
   "source": [
    "data = pd.read_csv(\"../artifacts/data.csv\")"
   ]
  },
  {
   "cell_type": "code",
   "execution_count": 5,
   "metadata": {},
   "outputs": [
    {
     "data": {
      "text/plain": [
       "Index(['age', 'sex', 'bmi', 'children', 'smoker', 'region', 'expenses'], dtype='object')"
      ]
     },
     "execution_count": 5,
     "metadata": {},
     "output_type": "execute_result"
    }
   ],
   "source": [
    "data.columns"
   ]
  },
  {
   "cell_type": "code",
   "execution_count": null,
   "metadata": {},
   "outputs": [],
   "source": []
  },
  {
   "cell_type": "code",
   "execution_count": null,
   "metadata": {},
   "outputs": [],
   "source": []
  },
  {
   "cell_type": "code",
   "execution_count": null,
   "metadata": {},
   "outputs": [],
   "source": []
  },
  {
   "cell_type": "code",
   "execution_count": null,
   "metadata": {},
   "outputs": [],
   "source": []
  },
  {
   "cell_type": "code",
   "execution_count": null,
   "metadata": {},
   "outputs": [],
   "source": []
  }
 ],
 "metadata": {
  "kernelspec": {
   "display_name": "ml_projects",
   "language": "python",
   "name": "python3"
  },
  "language_info": {
   "codemirror_mode": {
    "name": "ipython",
    "version": 3
   },
   "file_extension": ".py",
   "mimetype": "text/x-python",
   "name": "python",
   "nbconvert_exporter": "python",
   "pygments_lexer": "ipython3",
   "version": "3.8.0"
  }
 },
 "nbformat": 4,
 "nbformat_minor": 2
}
