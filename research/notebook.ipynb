{
 "cells": [
  {
   "cell_type": "code",
   "execution_count": null,
   "metadata": {},
   "outputs": [],
   "source": [
    "import pandas as pd\n",
    "import numpy as np\n",
    "import os\n",
    "import sys\n",
    "import dill\n",
    "import yaml"
   ]
  },
  {
   "cell_type": "code",
   "execution_count": null,
   "metadata": {},
   "outputs": [],
   "source": [
    "source = r'C:\\Users\\Naren\\iNeuron\\Internship_Projects\\ML_Projects\\Insurance_Premium_Prediction\\research\\insurance.csv'"
   ]
  },
  {
   "cell_type": "code",
   "execution_count": null,
   "metadata": {},
   "outputs": [],
   "source": [
    "missing_df = pd.read_csv(source)\n",
    "columns = missing_df.columns\n",
    "for col in columns:\n",
    "    if missing_df[col].dtype == 'object':\n",
    "        missing_df[col].fillna(missing_df[col].mode()[0])\n",
    "    else:\n",
    "        missing_df[col].fillna(missing_df[col].median())\n",
    "        value = missing_df[col].median()\n",
    "        print(col, value)"
   ]
  },
  {
   "cell_type": "code",
   "execution_count": 7,
   "metadata": {},
   "outputs": [
    {
     "data": {
      "text/plain": [
       "{'n_estimators': [8, 16, 32, 64, 128, 256],\n",
       " 'learning_rate': [0.1, 0.01, 0.05, 0.001],\n",
       " 'subsample': [0.6, 0.7, 0.75, 0.8, 0.85, 0.9],\n",
       " 'criterion': ['friedman_mse', 'squared_error'],\n",
       " 'max_depth': [3, 5, 7]}"
      ]
     },
     "execution_count": 7,
     "metadata": {},
     "output_type": "execute_result"
    }
   ],
   "source": [
    "import yaml\n",
    "\n",
    "with open(os.path.join(\"..\", \"config\", \"params.yaml\")) as file:\n",
    "    yaml_file = yaml.safe_load(file)\n",
    "\n",
    "yaml_file['models']['Gradient_boost_reg']['param_grid']"
   ]
  },
  {
   "cell_type": "code",
   "execution_count": 2,
   "metadata": {},
   "outputs": [
    {
     "name": "stdout",
     "output_type": "stream",
     "text": [
      "GradientBoostingRegressor(n_estimators=32, subsample=0.6)\n"
     ]
    }
   ],
   "source": [
    "param = {'criterion': 'friedman_mse', 'learning_rate': 0.1, 'max_depth': 3, 'n_estimators': 32, 'subsample': 0.6}\n",
    "\n",
    "from sklearn.ensemble import GradientBoostingRegressor\n",
    "\n",
    "model = GradientBoostingRegressor()\n",
    "model.set_params(**param)\n",
    "print(model)"
   ]
  },
  {
   "cell_type": "code",
   "execution_count": null,
   "metadata": {},
   "outputs": [],
   "source": []
  }
 ],
 "metadata": {
  "kernelspec": {
   "display_name": "ml_projects",
   "language": "python",
   "name": "python3"
  },
  "language_info": {
   "codemirror_mode": {
    "name": "ipython",
    "version": 3
   },
   "file_extension": ".py",
   "mimetype": "text/x-python",
   "name": "python",
   "nbconvert_exporter": "python",
   "pygments_lexer": "ipython3",
   "version": "3.8.0"
  }
 },
 "nbformat": 4,
 "nbformat_minor": 2
}
