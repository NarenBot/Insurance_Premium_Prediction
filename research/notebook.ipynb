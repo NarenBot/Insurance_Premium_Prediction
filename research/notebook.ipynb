{
 "cells": [
  {
   "cell_type": "code",
   "execution_count": 4,
   "metadata": {},
   "outputs": [],
   "source": [
    "import pandas as pd\n",
    "import numpy as np\n",
    "import os\n",
    "import sys\n",
    "import dill\n",
    "import yaml\n",
    "import streamlit_authenticator as stauth\n",
    "import yaml"
   ]
  },
  {
   "cell_type": "markdown",
   "metadata": {},
   "source": [
    "#### Creating Hashed values:"
   ]
  },
  {
   "cell_type": "code",
   "execution_count": 10,
   "metadata": {},
   "outputs": [
    {
     "data": {
      "text/plain": [
       "['$2b$12$M0dTWbjtQOtSZlKS1N50YubCIgAVHu2UyYZy6n5xh7qMynK0T/Rtu',\n",
       " '$2b$12$R/mcTxX38f0E1d44PhCihenji2WVRogWeU5nqGMfIAsxHMuHz2YRq']"
      ]
     },
     "execution_count": 10,
     "metadata": {},
     "output_type": "execute_result"
    }
   ],
   "source": [
    "hashed_passwords = stauth.Hasher([\"admin\", \"narenbot\"]).generate()\n",
    "hashed_passwords"
   ]
  },
  {
   "cell_type": "code",
   "execution_count": 5,
   "metadata": {},
   "outputs": [
    {
     "data": {
      "text/plain": [
       "{'credentials': {'usernames': {'admin': {'email': 'admin@gmail.com',\n",
       "    'name': 'Administrator',\n",
       "    'password': '$2b$12$M0dTWbjtQOtSZlKS1N50YubCIgAVHu2UyYZy6n5xh7qMynK0T/Rtu'},\n",
       "   'narenbot': {'email': 'narendas10@gmail.com',\n",
       "    'name': 'Narendran',\n",
       "    'password': '$2b$12$R/mcTxX38f0E1d44PhCihenji2WVRogWeU5nqGMfIAsxHMuHz2YRq'}}},\n",
       " 'cookie': {'expiry_days': 30,\n",
       "  'key': 'some_signature_key',\n",
       "  'name': 'some_cookie_name'},\n",
       " 'preauthorized': {'emails': ['narendas10@gmail.com']}}"
      ]
     },
     "execution_count": 5,
     "metadata": {},
     "output_type": "execute_result"
    }
   ],
   "source": [
    "with open(r\"..\\config\\auth_config.yml\") as file:\n",
    "    config = yaml.safe_load(file)\n",
    "\n",
    "config"
   ]
  },
  {
   "cell_type": "code",
   "execution_count": 7,
   "metadata": {},
   "outputs": [
    {
     "data": {
      "text/plain": [
       "{'n_estimators': [8, 16, 32, 64, 128, 256],\n",
       " 'learning_rate': [0.1, 0.01, 0.05, 0.001],\n",
       " 'subsample': [0.6, 0.7, 0.75, 0.8, 0.85, 0.9],\n",
       " 'criterion': ['friedman_mse', 'squared_error'],\n",
       " 'max_depth': [3, 5, 7]}"
      ]
     },
     "execution_count": 7,
     "metadata": {},
     "output_type": "execute_result"
    }
   ],
   "source": [
    "import yaml\n",
    "\n",
    "with open(os.path.join(\"..\", \"config\", \"params.yaml\")) as file:\n",
    "    yaml_file = yaml.safe_load(file)\n",
    "\n",
    "yaml_file['models']['Gradient_boost_reg']['param_grid']"
   ]
  },
  {
   "cell_type": "code",
   "execution_count": null,
   "metadata": {},
   "outputs": [],
   "source": []
  },
  {
   "cell_type": "code",
   "execution_count": 13,
   "metadata": {},
   "outputs": [],
   "source": [
    "from sklearn.ensemble import GradientBoostingRegressor\n",
    "\n",
    "\n",
    "params = {'criterion': 'squared_error', 'learning_rate': 0.1, 'max_depth': 3, 'n_estimators': 32, 'subsample': 0.7}\n",
    "model = GradientBoostingRegressor(criterion='squared_error', n_estimators=32, subsample=0.7)"
   ]
  },
  {
   "cell_type": "code",
   "execution_count": 7,
   "metadata": {},
   "outputs": [],
   "source": [
    "input_dict = {'name': 'naren', 'age': 0.1, 'area': 3, \"ht\":2.5, \"friend\":\"raja\"}"
   ]
  },
  {
   "cell_type": "code",
   "execution_count": 11,
   "metadata": {},
   "outputs": [],
   "source": [
    "keys = list(input_dict.keys())\n",
    "# keys, values = list(input_dict.items())"
   ]
  },
  {
   "cell_type": "code",
   "execution_count": 12,
   "metadata": {},
   "outputs": [
    {
     "name": "stdout",
     "output_type": "stream",
     "text": [
      "name naren\n",
      "age 0.1\n",
      "area 3\n",
      "ht 2.5\n",
      "friend raja\n"
     ]
    }
   ],
   "source": [
    "keys = list(input_dict.keys())\n",
    "values = list(input_dict.values())\n",
    "for i in range(len(input_dict)):\n",
    "    # print(f\"{keys[i]} = {values[i]}\")\n",
    "    print(f\"{keys[i]}\", values[i])\n",
    "    "
   ]
  },
  {
   "cell_type": "code",
   "execution_count": null,
   "metadata": {},
   "outputs": [],
   "source": []
  },
  {
   "cell_type": "code",
   "execution_count": null,
   "metadata": {},
   "outputs": [],
   "source": []
  },
  {
   "cell_type": "code",
   "execution_count": null,
   "metadata": {},
   "outputs": [],
   "source": []
  },
  {
   "cell_type": "code",
   "execution_count": null,
   "metadata": {},
   "outputs": [],
   "source": []
  }
 ],
 "metadata": {
  "kernelspec": {
   "display_name": "ml_projects",
   "language": "python",
   "name": "python3"
  },
  "language_info": {
   "codemirror_mode": {
    "name": "ipython",
    "version": 3
   },
   "file_extension": ".py",
   "mimetype": "text/x-python",
   "name": "python",
   "nbconvert_exporter": "python",
   "pygments_lexer": "ipython3",
   "version": "3.8.0"
  }
 },
 "nbformat": 4,
 "nbformat_minor": 2
}
